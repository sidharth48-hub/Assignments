{
 "cells": [
  {
   "cell_type": "code",
   "execution_count": null,
   "id": "disturbed-district",
   "metadata": {},
   "outputs": [],
   "source": [
    "def prime(n):\n",
    "    c=0;\n",
    "    for i in range(1,n+1):\n",
    "        if n%i==0:\n",
    "            c=c+1\n",
    "    if c==2:\n",
    "        print(n,\" is Prime\")\n",
    "    else:\n",
    "        print(n,\" is not Prime\")\n",
    "n=int(input(\"Enter a number: \"))\n",
    "prime(n)"
   ]
  }
 ],
 "metadata": {
  "kernelspec": {
   "display_name": "Python 3",
   "language": "python",
   "name": "python3"
  },
  "language_info": {
   "codemirror_mode": {
    "name": "ipython",
    "version": 3
   },
   "file_extension": ".py",
   "mimetype": "text/x-python",
   "name": "python",
   "nbconvert_exporter": "python",
   "pygments_lexer": "ipython3",
   "version": "3.8.5"
  }
 },
 "nbformat": 4,
 "nbformat_minor": 5
}
